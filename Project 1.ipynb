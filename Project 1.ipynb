{
 "cells": [
  {
   "cell_type": "markdown",
   "id": "a6c22f62-b050-41b7-bf9e-9019761b83b1",
   "metadata": {},
   "source": [
    "# Task 1: Coding the Central Dogma"
   ]
  },
  {
   "cell_type": "markdown",
   "id": "97c7d7a0-752a-4b05-882b-ced5ac118b70",
   "metadata": {},
   "source": [
    "## 1.1 Write a function that finds the complementary sequence of a given DNA sequence"
   ]
  },
  {
   "cell_type": "code",
   "execution_count": 34,
   "id": "f737c1e9-18e6-44a5-bfd1-27494648f86a",
   "metadata": {},
   "outputs": [
    {
     "data": {
      "text/plain": [
       "True"
      ]
     },
     "execution_count": 34,
     "metadata": {},
     "output_type": "execute_result"
    }
   ],
   "source": [
    "isinstance(\"abc\", str)"
   ]
  },
  {
   "cell_type": "code",
   "execution_count": 44,
   "id": "8a9c855c-398b-4cac-8ab3-603fc8a7f3f3",
   "metadata": {},
   "outputs": [],
   "source": [
    "def dna_complementary(seq):\n",
    "    try:\n",
    "        if not isinstance(seq, str):\n",
    "            raise ValueError(\"Sequence is non-canonical\")\n",
    "        curr = \"\"\n",
    "        for base in seq:\n",
    "            if base == \"A\" or base == \"a\":\n",
    "                curr += \"T\"\n",
    "            elif base == \"T\" or base == \"t\":\n",
    "                curr += \"A\"\n",
    "            elif base == \"G\" or base == \"g\":\n",
    "                curr += \"C\"\n",
    "            elif base == \"C\" or base == \"c\":\n",
    "                curr += \"G\"\n",
    "            else: \n",
    "                raise ValueError(\"Sequence is non-canonical\")\n",
    "        return curr\n",
    "    except ValueError as e:\n",
    "        print(\"Value Error: \", e)"
   ]
  },
  {
   "cell_type": "code",
   "execution_count": 45,
   "id": "0a819747-672c-461b-b833-c4b99c9b83cb",
   "metadata": {},
   "outputs": [
    {
     "name": "stdout",
     "output_type": "stream",
     "text": [
      "Value Error:  Sequence is non-canonical\n"
     ]
    }
   ],
   "source": [
    "dna_complementary(\"A@G\")"
   ]
  },
  {
   "cell_type": "markdown",
   "id": "49a0f4d0-572d-4f77-89a3-2d389dad013d",
   "metadata": {},
   "source": [
    "## 1.2 Write a function that finds the RNA sequence of a given DNA sequence"
   ]
  },
  {
   "cell_type": "code",
   "execution_count": 17,
   "id": "3346a800-43b5-41a0-af2e-b812c6c7df42",
   "metadata": {},
   "outputs": [],
   "source": [
    "def dna_rna(seq):\n",
    "\treturn seq.replace(\"T\", \"U\")"
   ]
  },
  {
   "cell_type": "markdown",
   "id": "3894c5cf-38ba-46df-aa76-91284170edda",
   "metadata": {},
   "source": [
    "## 1.3 Write a function that finds the amino acid sequence of a given RNA sequence"
   ]
  },
  {
   "cell_type": "code",
   "execution_count": 18,
   "id": "700233a6-c1dd-4a61-8921-63eaf5ca3f69",
   "metadata": {},
   "outputs": [],
   "source": [
    "def rna_aa(seq):\n",
    "    #Need to define a dictionary of triplet to amino acid mappings.\n",
    "\tpass"
   ]
  },
  {
   "cell_type": "markdown",
   "id": "71b20380-906b-4a53-adf4-f0b43a0349e3",
   "metadata": {},
   "source": [
    "## 1.4 Tying it all together: Write a higher-order function that combines 1.1-1.3."
   ]
  },
  {
   "cell_type": "code",
   "execution_count": null,
   "id": "4d88a10f-3598-4650-b87a-e35b7ec997a5",
   "metadata": {},
   "outputs": [],
   "source": [
    "def dna_aa(seq):\n",
    "\tpass"
   ]
  },
  {
   "cell_type": "markdown",
   "id": "41f727ac-8fa6-40e1-89e0-420254fc5b71",
   "metadata": {},
   "source": [
    "## 1.5 Protein annotator"
   ]
  },
  {
   "cell_type": "code",
   "execution_count": 14,
   "id": "85c58d81-1850-47ef-810f-d17893402824",
   "metadata": {},
   "outputs": [],
   "source": [
    "import minotaor\n",
    "from Bio.Seq import Seq\n",
    "from Bio.SeqRecord import SeqRecord\n",
    "\n",
    "# Replace the sequence with your own sequence\n",
    "protein = Seq(\"SYYHHHHHHHDYPTEGKSSGSGSESKST*EDINBURGHGENQMEFQUNDRY*\")\n",
    "protein_record = SeqRecord(protein, id=\"example\", annotations={\"molecule_type\": \"protein\"})\n",
    "\n",
    "protein_record = minotaor.annotate_record(protein_record)  # search is case sensitive"
   ]
  },
  {
   "cell_type": "code",
   "execution_count": 15,
   "id": "f1fe9ae5-0af3-49b8-9d1d-5abd8007ea60",
   "metadata": {},
   "outputs": [
    {
     "data": {
      "text/plain": [
       "SeqRecord(seq=Seq('AANQHL'), id='example', name='<unknown name>', description='<unknown description>', dbxrefs=[])"
      ]
     },
     "execution_count": 15,
     "metadata": {},
     "output_type": "execute_result"
    }
   ],
   "source": [
    "protein_record"
   ]
  },
  {
   "cell_type": "code",
   "execution_count": 16,
   "id": "52ef5ec7-bb51-4c7c-b3f8-802c25c73cab",
   "metadata": {},
   "outputs": [
    {
     "data": {
      "image/png": "[encoded data removed]",
      "text/plain": [
       "<Figure size 1000x220 with 1 Axes>"
      ]
     },
     "metadata": {},
     "output_type": "display_data"
    }
   ],
   "source": [
    "graphic_record = minotaor.MinotaorTranslator().translate_record(protein_record)\n",
    "ax, _ = graphic_record.plot(figure_width=10, strand_in_label_threshold=7)\n",
    "graphic_record.plot_sequence(ax)"
   ]
  },
  {
   "cell_type": "markdown",
   "id": "6bafe9c4-3188-427b-a82a-5e36eaefddd5",
   "metadata": {},
   "source": [
    "# Task 2: Wrapping it all together with raw data"
   ]
  },
  {
   "cell_type": "markdown",
   "id": "7bed74b2-8ce6-47e5-a346-0be124647b17",
   "metadata": {},
   "source": [
    "2.1 Write a function that reads the fastq file and extracts all sequences that have a quality scores above Q10."
   ]
  },
  {
   "cell_type": "code",
   "execution_count": 20,
   "id": "bf5fbafa-0227-471a-8410-5319008175c6",
   "metadata": {},
   "outputs": [],
   "source": [
    "def extract_seqs(fasta_file_path):\n",
    "\t\"\"\"Extracts sequences from a fasta file path if the quality of all bases is >= Q10\"\"\"\n",
    "\tpass"
   ]
  },
  {
   "cell_type": "code",
   "execution_count": null,
   "id": "eae5e368-def6-41a6-974e-f37c86fb7ce3",
   "metadata": {},
   "outputs": [],
   "source": [
    "class Genome:\n",
    "    \"\"\"\n",
    "    Read, store, and analyze the contents of a genome from a FASTA file\n",
    "    \"\"\"\n",
    "    def __init__(self, filepath):\n",
    "        self.filepath = filepath\n",
    "        self.dna_seqs = None\n",
    "        self.rna_seqs = None\n",
    "        self.aa_seqs = None\n",
    "    \n",
    "    # UPDATE THE FOLLOWING FUNCTIONS TO POPULATE THE ABOVE PROPERTIES\n",
    "    def extract_seqs(self):\n",
    "        pass\n",
    "    \n",
    "    def complementary_seqs(self):\n",
    "        pass\n",
    "\n",
    "    def rna_seqs(self):\n",
    "        pass\n",
    "    \n",
    "    def aa_seqs(self):\n",
    "        pass\n",
    "\n",
    "    def annot_aa_plot(self, seqid):\n",
    "        pass"
   ]
  }
 ],
 "metadata": {
  "kernelspec": {
   "display_name": "bf550",
   "language": "python",
   "name": "bf550"
  },
  "language_info": {
   "codemirror_mode": {
    "name": "ipython",
    "version": 3
   },
   "file_extension": ".py",
   "mimetype": "text/x-python",
   "name": "python",
   "nbconvert_exporter": "python",
   "pygments_lexer": "ipython3",
   "version": "3.9.18"
  }
 },
 "nbformat": 4,
 "nbformat_minor": 5
}
